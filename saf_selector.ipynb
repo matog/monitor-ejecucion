{
 "cells": [
  {
   "cell_type": "code",
   "execution_count": 25,
   "metadata": {},
   "outputs": [],
   "source": [
    "import pandas as pd"
   ]
  },
  {
   "cell_type": "code",
   "execution_count": 26,
   "metadata": {},
   "outputs": [],
   "source": [
    "df = pd.read_csv('credito-mensual-2020.csv', decimal = ',')"
   ]
  },
  {
   "cell_type": "code",
   "execution_count": 27,
   "metadata": {},
   "outputs": [],
   "source": [
    "df = df[['impacto_presupuestario_mes',\n",
    "       'ejercicio_presupuestario','servicio_id', 'servicio_desc',\n",
    "       'programa_id', 'programa_desc','inciso_id', 'inciso_desc', 'fuente_financiamiento_id',\n",
    "       'fuente_financiamiento_desc', 'credito_presupuestado', 'credito_vigente', 'credito_comprometido', \n",
    "       'credito_devengado','credito_pagado', 'ultima_actualizacion_fecha']]"
   ]
  },
  {
   "cell_type": "code",
   "execution_count": 28,
   "metadata": {},
   "outputs": [
    {
     "data": {
      "text/html": [
       "<div>\n",
       "<style scoped>\n",
       "    .dataframe tbody tr th:only-of-type {\n",
       "        vertical-align: middle;\n",
       "    }\n",
       "\n",
       "    .dataframe tbody tr th {\n",
       "        vertical-align: top;\n",
       "    }\n",
       "\n",
       "    .dataframe thead th {\n",
       "        text-align: right;\n",
       "    }\n",
       "</style>\n",
       "<table border=\"1\" class=\"dataframe\">\n",
       "  <thead>\n",
       "    <tr style=\"text-align: right;\">\n",
       "      <th></th>\n",
       "      <th></th>\n",
       "      <th>credito_vigente</th>\n",
       "    </tr>\n",
       "    <tr>\n",
       "      <th>servicio_desc</th>\n",
       "      <th>servicio_id</th>\n",
       "      <th></th>\n",
       "    </tr>\n",
       "  </thead>\n",
       "  <tbody>\n",
       "    <tr>\n",
       "      <th>Administración Nacional de Aviación Civil</th>\n",
       "      <th>669</th>\n",
       "      <td>3.068111e+03</td>\n",
       "    </tr>\n",
       "    <tr>\n",
       "      <th>Administración Nacional de Laboratorios e Institutos de Salud Dr. Carlos G. Malbrán</th>\n",
       "      <th>906</th>\n",
       "      <td>3.037947e+03</td>\n",
       "    </tr>\n",
       "    <tr>\n",
       "      <th>Administración Nacional de Medicamentos, Alimentos y Tecnología Médica</th>\n",
       "      <th>904</th>\n",
       "      <td>1.771618e+03</td>\n",
       "    </tr>\n",
       "    <tr>\n",
       "      <th>Administración Nacional de la Seguridad Social</th>\n",
       "      <th>850</th>\n",
       "      <td>3.381730e+06</td>\n",
       "    </tr>\n",
       "    <tr>\n",
       "      <th>Administración de Parques Nacionales</th>\n",
       "      <th>107</th>\n",
       "      <td>3.035470e+03</td>\n",
       "    </tr>\n",
       "    <tr>\n",
       "      <th>...</th>\n",
       "      <th>...</th>\n",
       "      <td>...</td>\n",
       "    </tr>\n",
       "    <tr>\n",
       "      <th>Superintendencia de Servicios de Salud</th>\n",
       "      <th>914</th>\n",
       "      <td>3.753452e+04</td>\n",
       "    </tr>\n",
       "    <tr>\n",
       "      <th>Teatro Nacional Cervantes</th>\n",
       "      <th>113</th>\n",
       "      <td>5.053256e+02</td>\n",
       "    </tr>\n",
       "    <tr>\n",
       "      <th>Tribunal Fiscal de la Nación</th>\n",
       "      <th>620</th>\n",
       "      <td>4.465304e+02</td>\n",
       "    </tr>\n",
       "    <tr>\n",
       "      <th>Tribunal de Tasaciones de la Nación</th>\n",
       "      <th>612</th>\n",
       "      <td>1.235414e+02</td>\n",
       "    </tr>\n",
       "    <tr>\n",
       "      <th>Unidad de Información Financiera</th>\n",
       "      <th>670</th>\n",
       "      <td>5.708949e+02</td>\n",
       "    </tr>\n",
       "  </tbody>\n",
       "</table>\n",
       "<p>127 rows × 1 columns</p>\n",
       "</div>"
      ],
      "text/plain": [
       "                                                                credito_vigente\n",
       "servicio_desc                                      servicio_id                 \n",
       "Administración Nacional de Aviación Civil          669             3.068111e+03\n",
       "Administración Nacional de Laboratorios e Insti... 906             3.037947e+03\n",
       "Administración Nacional de Medicamentos, Alimen... 904             1.771618e+03\n",
       "Administración Nacional de la Seguridad Social     850             3.381730e+06\n",
       "Administración de Parques Nacionales               107             3.035470e+03\n",
       "...                                                                         ...\n",
       "Superintendencia de Servicios de Salud             914             3.753452e+04\n",
       "Teatro Nacional Cervantes                          113             5.053256e+02\n",
       "Tribunal Fiscal de la Nación                       620             4.465304e+02\n",
       "Tribunal de Tasaciones de la Nación                612             1.235414e+02\n",
       "Unidad de Información Financiera                   670             5.708949e+02\n",
       "\n",
       "[127 rows x 1 columns]"
      ]
     },
     "execution_count": 28,
     "metadata": {},
     "output_type": "execute_result"
    }
   ],
   "source": [
    "df.groupby(['servicio_desc', 'servicio_id']).agg({'credito_vigente':'sum'})"
   ]
  },
  {
   "cell_type": "code",
   "execution_count": 15,
   "metadata": {},
   "outputs": [],
   "source": [
    "df = df.loc[df['servicio_id']==364]"
   ]
  },
  {
   "cell_type": "code",
   "execution_count": 16,
   "metadata": {},
   "outputs": [],
   "source": [
    "df.to_csv('base.csv', index=False)"
   ]
  }
 ],
 "metadata": {
  "kernelspec": {
   "display_name": "Python 3",
   "language": "python",
   "name": "python3"
  },
  "language_info": {
   "codemirror_mode": {
    "name": "ipython",
    "version": 3
   },
   "file_extension": ".py",
   "mimetype": "text/x-python",
   "name": "python",
   "nbconvert_exporter": "python",
   "pygments_lexer": "ipython3",
   "version": "3.8.5"
  }
 },
 "nbformat": 4,
 "nbformat_minor": 4
}
