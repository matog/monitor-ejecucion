{
 "cells": [
  {
   "cell_type": "code",
   "execution_count": 2,
   "metadata": {},
   "outputs": [],
   "source": [
    "import pandas as pd"
   ]
  },
  {
   "cell_type": "code",
   "execution_count": 3,
   "metadata": {},
   "outputs": [],
   "source": [
    "df = pd.read_csv('credito-mensual-2021.csv', decimal = ',')"
   ]
  },
  {
   "cell_type": "code",
   "execution_count": 4,
   "metadata": {},
   "outputs": [],
   "source": [
    "df = df[['impacto_presupuestario_mes',\n",
    "       'ejercicio_presupuestario','servicio_id', 'servicio_desc',\n",
    "       'programa_id', 'programa_desc','inciso_id', 'inciso_desc', 'fuente_financiamiento_id',\n",
    "       'fuente_financiamiento_desc', 'credito_presupuestado', 'credito_vigente', 'credito_comprometido', \n",
    "       'credito_devengado','credito_pagado', 'ultima_actualizacion_fecha']]"
   ]
  },
  {
   "cell_type": "code",
   "execution_count": 5,
   "metadata": {},
   "outputs": [
    {
     "data": {
      "text/html": [
       "<div>\n",
       "<style scoped>\n",
       "    .dataframe tbody tr th:only-of-type {\n",
       "        vertical-align: middle;\n",
       "    }\n",
       "\n",
       "    .dataframe tbody tr th {\n",
       "        vertical-align: top;\n",
       "    }\n",
       "\n",
       "    .dataframe thead th {\n",
       "        text-align: right;\n",
       "    }\n",
       "</style>\n",
       "<table border=\"1\" class=\"dataframe\">\n",
       "  <thead>\n",
       "    <tr style=\"text-align: right;\">\n",
       "      <th></th>\n",
       "      <th></th>\n",
       "      <th>credito_vigente</th>\n",
       "    </tr>\n",
       "    <tr>\n",
       "      <th>servicio_desc</th>\n",
       "      <th>servicio_id</th>\n",
       "      <th></th>\n",
       "    </tr>\n",
       "  </thead>\n",
       "  <tbody>\n",
       "    <tr>\n",
       "      <th>Administración Nacional de Aviación Civil</th>\n",
       "      <th>669</th>\n",
       "      <td>3.195097e+03</td>\n",
       "    </tr>\n",
       "    <tr>\n",
       "      <th>Administración Nacional de Laboratorios e Institutos de Salud Dr. Carlos G. Malbrán</th>\n",
       "      <th>906</th>\n",
       "      <td>3.803590e+03</td>\n",
       "    </tr>\n",
       "    <tr>\n",
       "      <th>Administración Nacional de Medicamentos, Alimentos y Tecnología Médica</th>\n",
       "      <th>904</th>\n",
       "      <td>1.944354e+03</td>\n",
       "    </tr>\n",
       "    <tr>\n",
       "      <th>Administración Nacional de la Seguridad Social</th>\n",
       "      <th>850</th>\n",
       "      <td>3.672460e+06</td>\n",
       "    </tr>\n",
       "    <tr>\n",
       "      <th>Administración de Parques Nacionales</th>\n",
       "      <th>107</th>\n",
       "      <td>3.329122e+03</td>\n",
       "    </tr>\n",
       "    <tr>\n",
       "      <th>...</th>\n",
       "      <th>...</th>\n",
       "      <td>...</td>\n",
       "    </tr>\n",
       "    <tr>\n",
       "      <th>Superintendencia de Servicios de Salud</th>\n",
       "      <th>914</th>\n",
       "      <td>3.713088e+04</td>\n",
       "    </tr>\n",
       "    <tr>\n",
       "      <th>Teatro Nacional Cervantes</th>\n",
       "      <th>113</th>\n",
       "      <td>5.671711e+02</td>\n",
       "    </tr>\n",
       "    <tr>\n",
       "      <th>Tribunal Fiscal de la Nación</th>\n",
       "      <th>620</th>\n",
       "      <td>4.426660e+02</td>\n",
       "    </tr>\n",
       "    <tr>\n",
       "      <th>Tribunal de Tasaciones de la Nación</th>\n",
       "      <th>612</th>\n",
       "      <td>1.264901e+02</td>\n",
       "    </tr>\n",
       "    <tr>\n",
       "      <th>Unidad de Información Financiera</th>\n",
       "      <th>670</th>\n",
       "      <td>5.731910e+02</td>\n",
       "    </tr>\n",
       "  </tbody>\n",
       "</table>\n",
       "<p>129 rows × 1 columns</p>\n",
       "</div>"
      ],
      "text/plain": [
       "                                                                credito_vigente\n",
       "servicio_desc                                      servicio_id                 \n",
       "Administración Nacional de Aviación Civil          669             3.195097e+03\n",
       "Administración Nacional de Laboratorios e Insti... 906             3.803590e+03\n",
       "Administración Nacional de Medicamentos, Alimen... 904             1.944354e+03\n",
       "Administración Nacional de la Seguridad Social     850             3.672460e+06\n",
       "Administración de Parques Nacionales               107             3.329122e+03\n",
       "...                                                                         ...\n",
       "Superintendencia de Servicios de Salud             914             3.713088e+04\n",
       "Teatro Nacional Cervantes                          113             5.671711e+02\n",
       "Tribunal Fiscal de la Nación                       620             4.426660e+02\n",
       "Tribunal de Tasaciones de la Nación                612             1.264901e+02\n",
       "Unidad de Información Financiera                   670             5.731910e+02\n",
       "\n",
       "[129 rows x 1 columns]"
      ]
     },
     "execution_count": 5,
     "metadata": {},
     "output_type": "execute_result"
    }
   ],
   "source": [
    "df.groupby(['servicio_desc', 'servicio_id']).agg({'credito_vigente':'sum'})"
   ]
  },
  {
   "cell_type": "markdown",
   "metadata": {},
   "source": [
    "### CAMBIAR EL 364 POR EL NUMERO DE SAF DESEADO"
   ]
  },
  {
   "cell_type": "code",
   "execution_count": 6,
   "metadata": {},
   "outputs": [],
   "source": [
    "df = df.loc[df['servicio_id']==364]"
   ]
  },
  {
   "cell_type": "markdown",
   "metadata": {},
   "source": [
    "#### Graba el archivo resultante para poder utilizarlo en el dashboard"
   ]
  },
  {
   "cell_type": "code",
   "execution_count": 7,
   "metadata": {},
   "outputs": [],
   "source": [
    "df.to_csv('base.csv', index=False)"
   ]
  },
  {
   "cell_type": "code",
   "execution_count": null,
   "metadata": {},
   "outputs": [],
   "source": []
  }
 ],
 "metadata": {
  "hide_input": false,
  "kernelspec": {
   "display_name": "Python 3",
   "language": "python",
   "name": "python3"
  },
  "language_info": {
   "codemirror_mode": {
    "name": "ipython",
    "version": 3
   },
   "file_extension": ".py",
   "mimetype": "text/x-python",
   "name": "python",
   "nbconvert_exporter": "python",
   "pygments_lexer": "ipython3",
   "version": "3.8.5"
  }
 },
 "nbformat": 4,
 "nbformat_minor": 4
}
